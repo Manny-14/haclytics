{
 "cells": [
  {
   "cell_type": "markdown",
   "metadata": {},
   "source": [
    "## Objective\n",
    "Build a predictive model that estimatest he probability of various match outcomes (win, draw, loss) for each team.\n",
    "\n",
    "### Application\n",
    "To be used in a sports betting scenario by comparing model's predicted probabilities with betting odds, I can potentially spot value bets"
   ]
  },
  {
   "cell_type": "code",
   "execution_count": 2,
   "metadata": {},
   "outputs": [],
   "source": [
    "# libraries\n",
    "import pandas as pd"
   ]
  },
  {
   "cell_type": "code",
   "execution_count": 3,
   "metadata": {},
   "outputs": [
    {
     "name": "stdout",
     "output_type": "stream",
     "text": [
      "                      home                  away        date  gh  ga  \\\n",
      "0         Bolton Wanderers          Derby County  1888-09-08   3   6   \n",
      "1               Everton FC         Accrington FC  1888-09-08   2   1   \n",
      "2        Preston North End            Burnley FC  1888-09-08   5   2   \n",
      "3               Stoke City  West Bromwich Albion  1888-09-08   0   2   \n",
      "4  Wolverhampton Wanderers           Aston Villa  1888-09-08   1   1   \n",
      "\n",
      "  full_time competition                         home_ident  \\\n",
      "0         F     england         Bolton Wanderers (England)   \n",
      "1         F     england               Everton FC (England)   \n",
      "2         F     england        Preston North End (England)   \n",
      "3         F     england               Stoke City (England)   \n",
      "4         F     england  Wolverhampton Wanderers (England)   \n",
      "\n",
      "                       away_ident home_country away_country home_code  \\\n",
      "0          Derby County (England)      england      england       ENG   \n",
      "1         Accrington FC (England)      england      england       ENG   \n",
      "2            Burnley FC (England)      england      england       ENG   \n",
      "3  West Bromwich Albion (England)      england      england       ENG   \n",
      "4           Aston Villa (England)      england      england       ENG   \n",
      "\n",
      "  away_code home_continent away_continent continent     level  \n",
      "0       ENG         Europe         Europe    Europe  national  \n",
      "1       ENG         Europe         Europe    Europe  national  \n",
      "2       ENG         Europe         Europe    Europe  national  \n",
      "3       ENG         Europe         Europe    Europe  national  \n",
      "4       ENG         Europe         Europe    Europe  national  \n"
     ]
    }
   ],
   "source": [
    "df = pd.read_parquet('games.parquet')\n",
    "print(df.head())"
   ]
  },
  {
   "cell_type": "code",
   "execution_count": 4,
   "metadata": {},
   "outputs": [
    {
     "name": "stdout",
     "output_type": "stream",
     "text": [
      "<class 'pandas.core.frame.DataFrame'>\n",
      "RangeIndex: 1237935 entries, 0 to 1237934\n",
      "Data columns (total 17 columns):\n",
      " #   Column          Non-Null Count    Dtype \n",
      "---  ------          --------------    ----- \n",
      " 0   home            1237575 non-null  object\n",
      " 1   away            1237568 non-null  object\n",
      " 2   date            1237935 non-null  object\n",
      " 3   gh              1237935 non-null  int32 \n",
      " 4   ga              1237935 non-null  int32 \n",
      " 5   full_time       1237935 non-null  object\n",
      " 6   competition     1229433 non-null  object\n",
      " 7   home_ident      1237935 non-null  object\n",
      " 8   away_ident      1237935 non-null  object\n",
      " 9   home_country    1237935 non-null  object\n",
      " 10  away_country    1237935 non-null  object\n",
      " 11  home_code       1237935 non-null  object\n",
      " 12  away_code       1237935 non-null  object\n",
      " 13  home_continent  1237935 non-null  object\n",
      " 14  away_continent  1237935 non-null  object\n",
      " 15  continent       1237935 non-null  object\n",
      " 16  level           1237935 non-null  object\n",
      "dtypes: int32(2), object(15)\n",
      "memory usage: 151.1+ MB\n",
      "None\n"
     ]
    }
   ],
   "source": [
    "# More examindation of the data\n",
    "print(df.info())"
   ]
  },
  {
   "cell_type": "code",
   "execution_count": 5,
   "metadata": {},
   "outputs": [
    {
     "name": "stdout",
     "output_type": "stream",
     "text": [
      "                 gh            ga\n",
      "count  1.237935e+06  1.237935e+06\n",
      "mean   1.611417e+00  1.150681e+00\n",
      "std    1.443697e+00  1.216481e+00\n",
      "min    0.000000e+00  0.000000e+00\n",
      "25%    1.000000e+00  0.000000e+00\n",
      "50%    1.000000e+00  1.000000e+00\n",
      "75%    2.000000e+00  2.000000e+00\n",
      "max    2.500000e+01  2.400000e+01\n"
     ]
    }
   ],
   "source": [
    "print(df.describe())"
   ]
  },
  {
   "cell_type": "code",
   "execution_count": 10,
   "metadata": {},
   "outputs": [
    {
     "name": "stdout",
     "output_type": "stream",
     "text": [
      "Index(['home', 'away', 'date', 'gh', 'ga', 'full_time', 'competition',\n",
      "       'home_ident', 'away_ident', 'home_country', 'away_country', 'home_code',\n",
      "       'away_code', 'home_continent', 'away_continent', 'continent', 'level'],\n",
      "      dtype='object')\n"
     ]
    }
   ],
   "source": [
    "print(df.columns)"
   ]
  },
  {
   "cell_type": "code",
   "execution_count": 8,
   "metadata": {},
   "outputs": [
    {
     "name": "stdout",
     "output_type": "stream",
     "text": [
      "home               360\n",
      "away               367\n",
      "date                 0\n",
      "gh                   0\n",
      "ga                   0\n",
      "full_time            0\n",
      "competition       8502\n",
      "home_ident           0\n",
      "away_ident           0\n",
      "home_country         0\n",
      "away_country         0\n",
      "home_code            0\n",
      "away_code            0\n",
      "home_continent       0\n",
      "away_continent       0\n",
      "continent            0\n",
      "level                0\n",
      "dtype: int64\n"
     ]
    }
   ],
   "source": [
    "# checking for missing values in each column\n",
    "print(df.isnull().sum())"
   ]
  },
  {
   "cell_type": "code",
   "execution_count": null,
   "metadata": {},
   "outputs": [],
   "source": []
  }
 ],
 "metadata": {
  "kernelspec": {
   "display_name": ".venv",
   "language": "python",
   "name": "python3"
  },
  "language_info": {
   "codemirror_mode": {
    "name": "ipython",
    "version": 3
   },
   "file_extension": ".py",
   "mimetype": "text/x-python",
   "name": "python",
   "nbconvert_exporter": "python",
   "pygments_lexer": "ipython3",
   "version": "3.12.5"
  }
 },
 "nbformat": 4,
 "nbformat_minor": 2
}
