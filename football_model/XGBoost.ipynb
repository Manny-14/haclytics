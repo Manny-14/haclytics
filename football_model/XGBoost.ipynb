{
 "cells": [
  {
   "cell_type": "code",
   "execution_count": 2,
   "metadata": {},
   "outputs": [
    {
     "name": "stdout",
     "output_type": "stream",
     "text": [
      "Requirement already satisfied: xgboost in /opt/anaconda3/lib/python3.12/site-packages (2.1.1)\n",
      "Requirement already satisfied: numpy in /opt/anaconda3/lib/python3.12/site-packages (from xgboost) (1.26.4)\n",
      "Requirement already satisfied: scipy in /opt/anaconda3/lib/python3.12/site-packages (from xgboost) (1.13.1)\n",
      "Note: you may need to restart the kernel to use updated packages.\n"
     ]
    },
    {
     "ename": "NameError",
     "evalue": "name 'X_train_preprocessed' is not defined",
     "output_type": "error",
     "traceback": [
      "\u001b[0;31m---------------------------------------------------------------------------\u001b[0m",
      "\u001b[0;31mNameError\u001b[0m                                 Traceback (most recent call last)",
      "Cell \u001b[0;32mIn[2], line 14\u001b[0m\n\u001b[1;32m     11\u001b[0m model_xgb \u001b[38;5;241m=\u001b[39m XGBClassifier(objective\u001b[38;5;241m=\u001b[39m\u001b[38;5;124m'\u001b[39m\u001b[38;5;124mmulti:softprob\u001b[39m\u001b[38;5;124m'\u001b[39m, use_label_encoder\u001b[38;5;241m=\u001b[39m\u001b[38;5;28;01mFalse\u001b[39;00m, eval_metric\u001b[38;5;241m=\u001b[39m\u001b[38;5;124m'\u001b[39m\u001b[38;5;124mmlogloss\u001b[39m\u001b[38;5;124m'\u001b[39m)\n\u001b[1;32m     13\u001b[0m \u001b[38;5;66;03m# Train the model using the preprocessed training data.\u001b[39;00m\n\u001b[0;32m---> 14\u001b[0m model_xgb\u001b[38;5;241m.\u001b[39mfit(X_train_preprocessed, y_train)\n\u001b[1;32m     16\u001b[0m \u001b[38;5;66;03m# Make predictions and obtain class probabilities on the test set.\u001b[39;00m\n\u001b[1;32m     17\u001b[0m y_pred_xgb \u001b[38;5;241m=\u001b[39m model_xgb\u001b[38;5;241m.\u001b[39mpredict(X_test_preprocessed)\n",
      "\u001b[0;31mNameError\u001b[0m: name 'X_train_preprocessed' is not defined"
     ]
    }
   ],
   "source": [
    "# %%\n",
    "# Install XGBoost if you haven't already\n",
    "%pip install xgboost\n",
    "\n",
    "# %%\n",
    "from xgboost import XGBClassifier\n",
    "from sklearn.metrics import classification_report, confusion_matrix\n",
    "\n",
    "# Initialize the XGBoost classifier for multiclass classification.\n",
    "# The objective 'multi:softprob' tells XGBoost to output probabilities for each class.\n",
    "model_xgb = XGBClassifier(objective='multi:softprob', use_label_encoder=False, eval_metric='mlogloss')\n",
    "\n",
    "# Train the model using the preprocessed training data.\n",
    "model_xgb.fit(X_train_preprocessed, y_train)\n",
    "\n",
    "# Make predictions and obtain class probabilities on the test set.\n",
    "y_pred_xgb = model_xgb.predict(X_test_preprocessed)\n",
    "y_proba_xgb = model_xgb.predict_proba(X_test_preprocessed)\n",
    "\n",
    "# Evaluate the performance with a confusion matrix and a classification report.\n",
    "print(\"Confusion Matrix for XGBoost:\")\n",
    "print(confusion_matrix(y_test, y_pred_xgb))\n",
    "print(\"\\nClassification Report for XGBoost:\")\n",
    "print(classification_report(y_test, y_pred_xgb))\n"
   ]
  },
  {
   "cell_type": "code",
   "execution_count": 1,
   "metadata": {},
   "outputs": [
    {
     "ename": "NameError",
     "evalue": "name 'model_xgb' is not defined",
     "output_type": "error",
     "traceback": [
      "\u001b[0;31m---------------------------------------------------------------------------\u001b[0m",
      "\u001b[0;31mNameError\u001b[0m                                 Traceback (most recent call last)",
      "Cell \u001b[0;32mIn[1], line 9\u001b[0m\n\u001b[1;32m      4\u001b[0m \u001b[38;5;28;01mimport\u001b[39;00m \u001b[38;5;21;01mnumpy\u001b[39;00m \u001b[38;5;28;01mas\u001b[39;00m \u001b[38;5;21;01mnp\u001b[39;00m\n\u001b[1;32m      6\u001b[0m \u001b[38;5;66;03m# Ensure the cell at index 0 is executed before this cell to define model_xgb, y_test, and y_proba_xgb.\u001b[39;00m\n\u001b[1;32m      7\u001b[0m \n\u001b[1;32m      8\u001b[0m \u001b[38;5;66;03m# Select the index corresponding to the 'home_win' class.\u001b[39;00m\n\u001b[0;32m----> 9\u001b[0m home_win_index \u001b[38;5;241m=\u001b[39m np\u001b[38;5;241m.\u001b[39mwhere(model_xgb\u001b[38;5;241m.\u001b[39mclasses_ \u001b[38;5;241m==\u001b[39m \u001b[38;5;124m'\u001b[39m\u001b[38;5;124mhome_win\u001b[39m\u001b[38;5;124m'\u001b[39m)[\u001b[38;5;241m0\u001b[39m][\u001b[38;5;241m0\u001b[39m]\n\u001b[1;32m     11\u001b[0m \u001b[38;5;66;03m# Compute the calibration curve data.\u001b[39;00m\n\u001b[1;32m     12\u001b[0m prob_true, prob_pred \u001b[38;5;241m=\u001b[39m calibration_curve((y_test \u001b[38;5;241m==\u001b[39m \u001b[38;5;124m'\u001b[39m\u001b[38;5;124mhome_win\u001b[39m\u001b[38;5;124m'\u001b[39m)\u001b[38;5;241m.\u001b[39mastype(\u001b[38;5;28mint\u001b[39m), \n\u001b[1;32m     13\u001b[0m                                            y_proba_xgb[:, home_win_index],\n\u001b[1;32m     14\u001b[0m                                            n_bins\u001b[38;5;241m=\u001b[39m\u001b[38;5;241m10\u001b[39m)\n",
      "\u001b[0;31mNameError\u001b[0m: name 'model_xgb' is not defined"
     ]
    }
   ],
   "source": [
    "# %%\n",
    "from sklearn.calibration import calibration_curve\n",
    "import matplotlib.pyplot as plt\n",
    "import numpy as np\n",
    "\n",
    "# Ensure the cell at index 0 is executed before this cell to define model_xgb, y_test, and y_proba_xgb.\n",
    "\n",
    "# Select the index corresponding to the 'home_win' class.\n",
    "home_win_index = np.where(model_xgb.classes_ == 'home_win')[0][0]\n",
    "\n",
    "# Compute the calibration curve data.\n",
    "prob_true, prob_pred = calibration_curve((y_test == 'home_win').astype(int), \n",
    "                                           y_proba_xgb[:, home_win_index],\n",
    "                                           n_bins=10)\n",
    "\n",
    "# Plot the calibration curve.\n",
    "plt.figure(figsize=(8,6))\n",
    "plt.plot(prob_pred, prob_true, marker='o', linewidth=1, label='Home Win')\n",
    "plt.plot([0, 1], [0, 1], linestyle='--', label='Perfect Calibration')\n",
    "plt.xlabel('Mean Predicted Probability')\n",
    "plt.ylabel('Fraction of Positives')\n",
    "plt.title('Calibration Plot for Home Win (XGBoost)')\n",
    "plt.legend()\n",
    "plt.show()\n"
   ]
  },
  {
   "cell_type": "code",
   "execution_count": null,
   "metadata": {},
   "outputs": [],
   "source": [
    "# %%\n",
    "from sklearn.metrics import roc_curve, auc\n",
    "from sklearn.preprocessing import label_binarize\n",
    "\n",
    "# Binarize the test labels for multiclass ROC analysis.\n",
    "y_test_bin = label_binarize(y_test, classes=model_xgb.classes_)\n",
    "n_classes = y_test_bin.shape[1]\n",
    "fpr = dict()\n",
    "tpr = dict()\n",
    "roc_auc = dict()\n",
    "\n",
    "# Plot ROC curves for each class.\n",
    "for i in range(n_classes):\n",
    "    fpr[i], tpr[i], _ = roc_curve(y_test_bin[:, i], y_proba_xgb[:, i])\n",
    "    roc_auc[i] = auc(fpr[i], tpr[i])\n",
    "    plt.plot(fpr[i], tpr[i], label=f'ROC curve for {model_xgb.classes_[i]} (area = {roc_auc[i]:0.2f})')\n",
    "plt.plot([0, 1], [0, 1], 'k--', label='Chance')\n",
    "plt.xlabel('False Positive Rate')\n",
    "plt.ylabel('True Positive Rate')\n",
    "plt.title('ROC Curves (XGBoost)')\n",
    "plt.legend(loc=\"lower right\")\n",
    "plt.show()\n",
    "\n",
    "# %%\n",
    "from sklearn.metrics import precision_recall_curve, average_precision_score\n",
    "\n",
    "# Plot Precision-Recall curves for each class.\n",
    "for i in range(n_classes):\n",
    "    precision, recall, _ = precision_recall_curve(y_test_bin[:, i], y_proba_xgb[:, i])\n",
    "    avg_precision = average_precision_score(y_test_bin[:, i], y_proba_xgb[:, i])\n",
    "    plt.plot(recall, precision, label=f'Precision-Recall for {model_xgb.classes_[i]} (AP = {avg_precision:0.2f})')\n",
    "plt.xlabel('Recall')\n",
    "plt.ylabel('Precision')\n",
    "plt.title('Precision-Recall Curves (XGBoost)')\n",
    "plt.legend(loc='best')\n",
    "plt.show()\n"
   ]
  }
 ],
 "metadata": {
  "kernelspec": {
   "display_name": "base",
   "language": "python",
   "name": "python3"
  },
  "language_info": {
   "codemirror_mode": {
    "name": "ipython",
    "version": 3
   },
   "file_extension": ".py",
   "mimetype": "text/x-python",
   "name": "python",
   "nbconvert_exporter": "python",
   "pygments_lexer": "ipython3",
   "version": "3.12.7"
  }
 },
 "nbformat": 4,
 "nbformat_minor": 2
}
